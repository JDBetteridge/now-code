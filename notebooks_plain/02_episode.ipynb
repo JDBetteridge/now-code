{
 "cells": [
  {
   "cell_type": "markdown",
   "metadata": {
    "slideshow": {
     "slide_type": "slide"
    }
   },
   "source": [
    "# Conditional Parsing"
   ]
  },
  {
   "cell_type": "markdown",
   "metadata": {
    "slideshow": {
     "slide_type": "slide"
    }
   },
   "source": [
    "## Overview\n",
    "- **Teaching:** 0 min\n",
    "- **Exercises:** 90 min\n",
    "\n",
    "**Questions**\n",
    "- How do I parse a data file conditionally?\n",
    "\n",
    "**Objectives**\n",
    "- Increasingly codes will use standard data files to help simplify the proceess of interacting with them\n",
    "- However this will not always be the case and processing data (files) can take an unreasonable amount of time\n",
    "- Learning to write reusable, reliable parsers will greatly reduce the pain\n",
    "- Python also helps to greatly ease the pain of parsing"
   ]
  },
  {
   "cell_type": "markdown",
   "metadata": {
    "slideshow": {
     "slide_type": "slide"
    }
   },
   "source": [
    "## The Problem\n",
    "\n",
    "Writing code to process data files can take an inordinate amount of time.  We will examine how to conditionally process a file of structures.  While this may seem like a problem of simulation, it examines a much more general problem when dealing with data, how to read and write it.  Even with standard formats easing the process of reading and writing data, in processing that data, and changing its format to meet the needs of our analysis will often be necessary.\n",
    "\n",
    "You will read in structures (data set) comprising of atom labels and elements in the format:\n",
    "\n",
    "`<Element label>  <x_coordinate>  <y_coordinate>  <z_coordinate>`\n",
    "\n",
    "e.g.\n",
    "\n",
    "`A 0.0 0.0 0.0`\n",
    "\n",
    "where the data are separated by `spaces`. Each structure consists of an unknown number of elements and is terminated by a line reading\n",
    "\n",
    "`**  [x_coordinate]  [y_coordinate]  [z_coordinate]`\n",
    "\n",
    "The coordinates are optional and not required.  The end of the set of structures is signified by the line:\n",
    "\n",
    "`##  [x_coordinate]  [y_coordinate]  [z_coordinate]`\n",
    "\n",
    "again the coordinates are optional.  While it may seem unecessary this line is important since it signifies that the previous step in our analysis completed successfully, i.e. the previous program didn't just stop midway through calculating the next structure.\n",
    "\n",
    "You will modify the code `ts_parser.py` so that it reads in the structures, according to the above syntax, and processes the resulting data into lists of lists:\n",
    "\n",
    "1. The element labels should be read into `<elements>`, raising an `Exception` if the line is empty\n",
    "2. The coordinates should be read into `x`, `y` and `z` and converted to floats, or `float('nan')` if not possible or not present\n",
    "\n",
    "Once read in you should then check that the file terminated correctly, raising an `Exception` if it didn't, and otherwise returning your data in the form of a list:\n",
    "\n",
    "```python\n",
    "return [ [[ elements ]],\n",
    "         [[ x ]], \n",
    "         [[ y ]],\n",
    "         [[ z ]] ]\n",
    "```\n",
    "\n",
    "You will then write a second function that processes the data to:\n",
    "\n",
    "1. Count how many Structures are in the data set\n",
    "2. Check that all elements contained the correct number of coordinates\n",
    "3. Record the number of invalid structures and the indices of them.\n",
    "4. Return the result as a list with the format:\n",
    "   ```python\n",
    "   return [ valid_structs,\n",
    "            [ invalid structs, [ list_of_invalid_structs ] ],\n",
    "            [ elements_per_struct ] ]\n",
    "    ```\n",
    "\n",
    "A series of tests will help you to identify when your functions are performing correctly."
   ]
  },
  {
   "cell_type": "markdown",
   "metadata": {
    "slideshow": {
     "slide_type": "slide"
    }
   },
   "source": [
    "## Exercise: 1: Read in data, convert type and return as lists (of lists)\n",
    "\n",
    "The first challenge is to read the data from files.  A prototype function for reading in the structure file is given in `ts_parser.py` and a series of tests in `test_ts_parser.py`.  These will check different components of you function and can help you if required to correct your code.  As suggested in the introduction the use of pseduocode or a flowchart will help to ensure the appropriate flow of your function.\n",
    "\n",
    "Once you are reading in the file correctly, recall how we considered processing each line of a file in turn using:\n",
    "```python\n",
    "with open(filename) as file:\n",
    "    ...\n",
    "```\n",
    "\n",
    "you may find the following function useful:\n",
    "\n",
    "```python\n",
    "words_in_line = line.split()\n",
    "```\n",
    "which splits the string `line`, with spaces by default, and returns a list of the 'words' in the string."
   ]
  },
  {
   "cell_type": "markdown",
   "metadata": {
    "slideshow": {
     "slide_type": "slide"
    }
   },
   "source": [
    "## Exercise: 2: Introduce exceptions and handle missing data"
   ]
  },
  {
   "cell_type": "markdown",
   "metadata": {
    "slideshow": {
     "slide_type": "slide"
    }
   },
   "source": [
    "## Exercise: 3: Process data to count stuctures and number of elements"
   ]
  },
  {
   "cell_type": "markdown",
   "metadata": {
    "slideshow": {
     "slide_type": "slide"
    }
   },
   "source": [
    "## Exercise: 4: Identify erroneous structures"
   ]
  },
  {
   "cell_type": "markdown",
   "metadata": {
    "slideshow": {
     "slide_type": "slide"
    }
   },
   "source": [
    "## Key Points\n",
    "- What are the key points?"
   ]
  }
 ],
 "metadata": {
  "celltoolbar": "Slideshow",
  "kernelspec": {
   "display_name": "Python 3",
   "language": "python",
   "name": "python3"
  },
  "language_info": {
   "codemirror_mode": {
    "name": "ipython",
    "version": 3
   },
   "file_extension": ".py",
   "mimetype": "text/x-python",
   "name": "python",
   "nbconvert_exporter": "python",
   "pygments_lexer": "ipython3",
   "version": "3.7.1"
  }
 },
 "nbformat": 4,
 "nbformat_minor": 2
}
